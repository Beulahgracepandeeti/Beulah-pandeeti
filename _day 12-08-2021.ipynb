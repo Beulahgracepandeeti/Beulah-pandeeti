{
 "cells": [
  {
   "cell_type": "code",
   "execution_count": null,
   "id": "7042cd15",
   "metadata": {},
   "outputs": [],
   "source": [
    "##  updating of elements in list"
   ]
  },
  {
   "cell_type": "code",
   "execution_count": 2,
   "id": "414e00ab",
   "metadata": {},
   "outputs": [
    {
     "name": "stdout",
     "output_type": "stream",
     "text": [
      "['chennai', 'pune', 'bnglr', 'mumbai']\n"
     ]
    }
   ],
   "source": [
    "city=['chennai','pune','bnglr','mumbai']\n",
    "print(city)"
   ]
  },
  {
   "cell_type": "code",
   "execution_count": 3,
   "id": "28f375cf",
   "metadata": {},
   "outputs": [
    {
     "name": "stdout",
     "output_type": "stream",
     "text": [
      "['pandy', 'pune', 'bnglr', 'mumbai']\n"
     ]
    }
   ],
   "source": [
    "city[0]='pandy'\n",
    "print(city)"
   ]
  },
  {
   "cell_type": "code",
   "execution_count": null,
   "id": "5a4f1687",
   "metadata": {},
   "outputs": [],
   "source": [
    "## deleting  of elements in list"
   ]
  },
  {
   "cell_type": "code",
   "execution_count": 5,
   "id": "954eab6a",
   "metadata": {},
   "outputs": [
    {
     "name": "stdout",
     "output_type": "stream",
     "text": [
      "['chennai', 'pune', 'bnglr', 'mumbai']\n"
     ]
    }
   ],
   "source": [
    "print(city)"
   ]
  },
  {
   "cell_type": "markdown",
   "id": "05442b00",
   "metadata": {},
   "source": [
    "\n"
   ]
  },
  {
   "cell_type": "code",
   "execution_count": null,
   "id": "ee439592",
   "metadata": {},
   "outputs": [],
   "source": [
    "## finding  of elements in a list"
   ]
  },
  {
   "cell_type": "code",
   "execution_count": 6,
   "id": "0d432c25",
   "metadata": {},
   "outputs": [
    {
     "data": {
      "text/plain": [
       "4"
      ]
     },
     "execution_count": 6,
     "metadata": {},
     "output_type": "execute_result"
    }
   ],
   "source": [
    "len(city)"
   ]
  },
  {
   "cell_type": "code",
   "execution_count": null,
   "id": "397f175d",
   "metadata": {},
   "outputs": [],
   "source": [
    "##delete  an element "
   ]
  },
  {
   "cell_type": "code",
   "execution_count": 7,
   "id": "d324d252",
   "metadata": {},
   "outputs": [
    {
     "name": "stdout",
     "output_type": "stream",
     "text": [
      "['chennai', 'pune', 'bnglr']\n"
     ]
    }
   ],
   "source": [
    "city.pop()\n",
    "print(city)\n"
   ]
  },
  {
   "cell_type": "code",
   "execution_count": 11,
   "id": "41a2b1c4",
   "metadata": {},
   "outputs": [
    {
     "name": "stdout",
     "output_type": "stream",
     "text": [
      "['chennai', 'pune', 'bnglr', 'cnada', 'canada', 'canada']\n"
     ]
    }
   ],
   "source": [
    "\n",
    "city.append('canada')\n",
    "print(city)"
   ]
  },
  {
   "cell_type": "code",
   "execution_count": 12,
   "id": "077975a2",
   "metadata": {},
   "outputs": [
    {
     "name": "stdout",
     "output_type": "stream",
     "text": [
      "['chennai', 'pune', 'bnglr', 'canada', 'canada']\n"
     ]
    }
   ],
   "source": [
    "city.pop(3)\n",
    "print(city)\n"
   ]
  },
  {
   "cell_type": "code",
   "execution_count": 13,
   "id": "93698f2a",
   "metadata": {},
   "outputs": [
    {
     "name": "stdout",
     "output_type": "stream",
     "text": [
      "['chennai', 'pune', 'bnglr', 'canada']\n"
     ]
    }
   ],
   "source": [
    "city.pop(4)\n",
    "print(city)\n"
   ]
  },
  {
   "cell_type": "code",
   "execution_count": null,
   "id": "b785d634",
   "metadata": {},
   "outputs": [],
   "source": [
    "## orgnizing  a list "
   ]
  },
  {
   "cell_type": "code",
   "execution_count": 17,
   "id": "fc31e1de",
   "metadata": {},
   "outputs": [
    {
     "name": "stdout",
     "output_type": "stream",
     "text": [
      "['navya', 'jhasni', 'ram', 'sam', 'raj', 'latha']\n"
     ]
    }
   ],
   "source": [
    "friends =['navya','jhasni','ram','sam','raj','latha']\n",
    "print (friends)\n",
    "\n"
   ]
  },
  {
   "cell_type": "markdown",
   "id": "7bd9d880",
   "metadata": {},
   "source": [
    "\n"
   ]
  },
  {
   "cell_type": "code",
   "execution_count": 26,
   "id": "32e58430",
   "metadata": {},
   "outputs": [
    {
     "name": "stdout",
     "output_type": "stream",
     "text": [
      "['navya', 'jhasni', 'ram', 'sam', 'raj', 'latha']\n"
     ]
    }
   ],
   "source": [
    "friends =['navya','jhasni','ram','sam','raj','latha']\n",
    "print (friends)"
   ]
  },
  {
   "cell_type": "code",
   "execution_count": 29,
   "id": "6ebee508",
   "metadata": {},
   "outputs": [
    {
     "name": "stdout",
     "output_type": "stream",
     "text": [
      "['navya', 'jhasni', 'ram', 'sam', 'raj', 'latha']\n"
     ]
    }
   ],
   "source": [
    "len ('friends')\n",
    "print (friends)"
   ]
  },
  {
   "cell_type": "code",
   "execution_count": 30,
   "id": "538210a4",
   "metadata": {},
   "outputs": [
    {
     "name": "stdout",
     "output_type": "stream",
     "text": [
      "['jhasni', 'latha', 'navya', 'raj', 'ram', 'sam']\n"
     ]
    }
   ],
   "source": [
    "friends.sort()\n",
    "print (friends)"
   ]
  },
  {
   "cell_type": "code",
   "execution_count": 32,
   "id": "eca68eb5",
   "metadata": {},
   "outputs": [
    {
     "data": {
      "text/plain": [
       "6"
      ]
     },
     "execution_count": 32,
     "metadata": {},
     "output_type": "execute_result"
    }
   ],
   "source": [
    "\n",
    "len (friends) \n"
   ]
  },
  {
   "cell_type": "code",
   "execution_count": null,
   "id": "1cec1629",
   "metadata": {},
   "outputs": [],
   "source": [
    "## reversing  the list"
   ]
  },
  {
   "cell_type": "code",
   "execution_count": 33,
   "id": "1d447671",
   "metadata": {},
   "outputs": [
    {
     "name": "stdout",
     "output_type": "stream",
     "text": [
      "['jhasni', 'latha', 'navya', 'raj', 'ram', 'sam']\n"
     ]
    }
   ],
   "source": [
    "print(friends)"
   ]
  },
  {
   "cell_type": "code",
   "execution_count": 34,
   "id": "291fede9",
   "metadata": {},
   "outputs": [
    {
     "name": "stdout",
     "output_type": "stream",
     "text": [
      "['sam', 'ram', 'raj', 'navya', 'latha', 'jhasni']\n"
     ]
    }
   ],
   "source": [
    "friends.reverse()\n",
    "print(friends)"
   ]
  },
  {
   "cell_type": "code",
   "execution_count": null,
   "id": "8a331c27",
   "metadata": {},
   "outputs": [],
   "source": [
    "## copy of the list"
   ]
  },
  {
   "cell_type": "code",
   "execution_count": 38,
   "id": "cd8ea45c",
   "metadata": {},
   "outputs": [
    {
     "name": "stdout",
     "output_type": "stream",
     "text": [
      "['biryani', 'burger', 'rice', 'pizza', 'carrot']\n"
     ]
    }
   ],
   "source": [
    "my_food=['biryani','burger','rice','pizza','carrot']\n",
    "print (my_food)"
   ]
  },
  {
   "cell_type": "code",
   "execution_count": 39,
   "id": "dbbfaffa",
   "metadata": {},
   "outputs": [
    {
     "name": "stdout",
     "output_type": "stream",
     "text": [
      "['biryani', 'burger', 'rice', 'pizza', 'carrot']\n"
     ]
    }
   ],
   "source": [
    "friend_food=my_food[:]\n",
    "print(friend_food)\n"
   ]
  },
  {
   "cell_type": "code",
   "execution_count": null,
   "id": "6dc74add",
   "metadata": {},
   "outputs": [],
   "source": [
    "## negative  index "
   ]
  },
  {
   "cell_type": "code",
   "execution_count": 41,
   "id": "f19b62a4",
   "metadata": {},
   "outputs": [
    {
     "name": "stdout",
     "output_type": "stream",
     "text": [
      "['navya', 'jhasni', 'ram', 'sam', 'raj', 'latha']\n"
     ]
    }
   ],
   "source": [
    "friends=['navya','jhasni','ram','sam','raj','latha']\n",
    "print (friends)"
   ]
  },
  {
   "cell_type": "code",
   "execution_count": 45,
   "id": "686ff049",
   "metadata": {},
   "outputs": [],
   "source": [
    "## slicing of a list\n"
   ]
  },
  {
   "cell_type": "code",
   "execution_count": 46,
   "id": "b1edb6de",
   "metadata": {},
   "outputs": [
    {
     "name": "stdout",
     "output_type": "stream",
     "text": [
      "['navya', 'jhasni', 'ram', 'sam', 'raj', 'latha']\n"
     ]
    }
   ],
   "source": [
    "\n",
    "print(friends)\n"
   ]
  },
  {
   "cell_type": "code",
   "execution_count": 48,
   "id": "980d446d",
   "metadata": {},
   "outputs": [
    {
     "name": "stdout",
     "output_type": "stream",
     "text": [
      "['navya', 'jhasni', 'ram']\n"
     ]
    }
   ],
   "source": [
    "print (friends[0:3])"
   ]
  },
  {
   "cell_type": "code",
   "execution_count": 50,
   "id": "223b2864",
   "metadata": {},
   "outputs": [
    {
     "name": "stdout",
     "output_type": "stream",
     "text": [
      "['sam', 'raj', 'latha']\n"
     ]
    }
   ],
   "source": [
    "print (friends[3:7])\n"
   ]
  },
  {
   "cell_type": "code",
   "execution_count": null,
   "id": "4a46ccef",
   "metadata": {},
   "outputs": [],
   "source": [
    "\n"
   ]
  },
  {
   "cell_type": "code",
   "execution_count": null,
   "id": "aa754504",
   "metadata": {},
   "outputs": [],
   "source": []
  },
  {
   "cell_type": "code",
   "execution_count": null,
   "id": "d71ee5b8",
   "metadata": {},
   "outputs": [],
   "source": []
  },
  {
   "cell_type": "code",
   "execution_count": null,
   "id": "a7798901",
   "metadata": {},
   "outputs": [],
   "source": []
  },
  {
   "cell_type": "code",
   "execution_count": null,
   "id": "8bc4dbd4",
   "metadata": {},
   "outputs": [],
   "source": [
    "\n"
   ]
  }
 ],
 "metadata": {
  "kernelspec": {
   "display_name": "Python 3",
   "language": "python",
   "name": "python3"
  },
  "language_info": {
   "codemirror_mode": {
    "name": "ipython",
    "version": 3
   },
   "file_extension": ".py",
   "mimetype": "text/x-python",
   "name": "python",
   "nbconvert_exporter": "python",
   "pygments_lexer": "ipython3",
   "version": "3.8.8"
  }
 },
 "nbformat": 4,
 "nbformat_minor": 5
}
