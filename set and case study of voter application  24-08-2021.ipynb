{
 "cells": [
  {
   "cell_type": "code",
   "execution_count": null,
   "id": "6693d876",
   "metadata": {},
   "outputs": [],
   "source": [
    "## set is collection of elements of multiple data types\n",
    "set is declared in {}\n",
    "set doesn't allow duplicates"
   ]
  },
  {
   "cell_type": "code",
   "execution_count": 1,
   "id": "e309f3f4",
   "metadata": {},
   "outputs": [
    {
     "name": "stdout",
     "output_type": "stream",
     "text": [
      "{3, 5.6, 'python ', 21, 54}\n"
     ]
    }
   ],
   "source": [
    "s={3,54,21, 'python ',5.6}\n",
    "print (s)"
   ]
  },
  {
   "cell_type": "code",
   "execution_count": 2,
   "id": "070491ee",
   "metadata": {},
   "outputs": [
    {
     "data": {
      "text/plain": [
       "set"
      ]
     },
     "execution_count": 2,
     "metadata": {},
     "output_type": "execute_result"
    }
   ],
   "source": [
    "type(s)"
   ]
  },
  {
   "cell_type": "code",
   "execution_count": 3,
   "id": "65da2b65",
   "metadata": {},
   "outputs": [
    {
     "name": "stdout",
     "output_type": "stream",
     "text": [
      "{1, 3, 4, 5, 12}\n"
     ]
    }
   ],
   "source": [
    "k={1,1,3,4,3,5,12}\n",
    "print(k)  # "
   ]
  },
  {
   "cell_type": "code",
   "execution_count": 4,
   "id": "45797f62",
   "metadata": {},
   "outputs": [
    {
     "name": "stdout",
     "output_type": "stream",
     "text": [
      "{3}\n"
     ]
    }
   ],
   "source": [
    "v={3,3,3}\n",
    "print(v)\n"
   ]
  },
  {
   "cell_type": "code",
   "execution_count": 5,
   "id": "43732f17",
   "metadata": {},
   "outputs": [
    {
     "name": "stdout",
     "output_type": "stream",
     "text": [
      "{5}\n"
     ]
    }
   ],
   "source": [
    "v={5}\n",
    "print(v)"
   ]
  },
  {
   "cell_type": "code",
   "execution_count": 6,
   "id": "1c85f6b6",
   "metadata": {},
   "outputs": [
    {
     "data": {
      "text/plain": [
       "set"
      ]
     },
     "execution_count": 6,
     "metadata": {},
     "output_type": "execute_result"
    }
   ],
   "source": [
    "type (v)"
   ]
  },
  {
   "cell_type": "code",
   "execution_count": null,
   "id": "0539d925",
   "metadata": {},
   "outputs": [],
   "source": [
    "## adding of elements "
   ]
  },
  {
   "cell_type": "code",
   "execution_count": 7,
   "id": "2dd852a8",
   "metadata": {},
   "outputs": [
    {
     "name": "stdout",
     "output_type": "stream",
     "text": [
      "{2, 35, 4, 5, 6, 7, 98, 43, 78, 643251, 23, 564, 211, 55, 56, 2425}\n"
     ]
    }
   ],
   "source": [
    "z={23,43,55,2,4,5,6,35,564,643251,2425,211,5,6,7,56,78,98}\n",
    "print(z)"
   ]
  },
  {
   "cell_type": "code",
   "execution_count": 8,
   "id": "9a623470",
   "metadata": {},
   "outputs": [
    {
     "data": {
      "text/plain": [
       "16"
      ]
     },
     "execution_count": 8,
     "metadata": {},
     "output_type": "execute_result"
    }
   ],
   "source": [
    "len(z)"
   ]
  },
  {
   "cell_type": "code",
   "execution_count": 9,
   "id": "f5bb3db5",
   "metadata": {},
   "outputs": [
    {
     "name": "stdout",
     "output_type": "stream",
     "text": [
      "{2, 35, 4, 5, 6, 7, 98, 43, 78, 50, 643251, 23, 564, 211, 55, 56, 2425}\n"
     ]
    }
   ],
   "source": [
    "z.add(50)\n",
    "print(z)\n"
   ]
  },
  {
   "cell_type": "code",
   "execution_count": 10,
   "id": "0703ac4f",
   "metadata": {},
   "outputs": [
    {
     "name": "stdout",
     "output_type": "stream",
     "text": [
      "{2, 35, 4, 5, 6, 7, 98, 43, 78, 50, 643251, 23, 564, 211, 55, 56, 2425}\n"
     ]
    }
   ],
   "source": [
    "z.add(2)\n",
    "print(z)"
   ]
  },
  {
   "cell_type": "code",
   "execution_count": null,
   "id": "62d2f849",
   "metadata": {},
   "outputs": [],
   "source": [
    "## updating of elements "
   ]
  },
  {
   "cell_type": "code",
   "execution_count": 11,
   "id": "61d83978",
   "metadata": {},
   "outputs": [
    {
     "name": "stdout",
     "output_type": "stream",
     "text": [
      "{32, 2, 3, 4, 7, 43, 75, 54, 26}\n"
     ]
    }
   ],
   "source": [
    "s={3,2,43,54,32,4,26,7,75}\n",
    "print(s)"
   ]
  },
  {
   "cell_type": "code",
   "execution_count": 14,
   "id": "25fa094b",
   "metadata": {},
   "outputs": [
    {
     "name": "stdout",
     "output_type": "stream",
     "text": [
      "{2, 3, 4, 5, 6, 7, 75, 78, 211, 23, 26, 32, 98, 35, 43, 50, 643251, 564, 54, 55, 56, 2425}\n"
     ]
    }
   ],
   "source": [
    "z.update(s)\n",
    "print(z)"
   ]
  },
  {
   "cell_type": "code",
   "execution_count": 15,
   "id": "f53c4b11",
   "metadata": {},
   "outputs": [
    {
     "name": "stdout",
     "output_type": "stream",
     "text": [
      "{32, 2, 3, 4, 7, 43, 75, 54, 26}\n"
     ]
    }
   ],
   "source": [
    "z.update (s)\n",
    "print(s)"
   ]
  },
  {
   "cell_type": "code",
   "execution_count": 17,
   "id": "96c7b5fb",
   "metadata": {},
   "outputs": [],
   "source": [
    "## deleting of elements \n",
    "z.remove (211)"
   ]
  },
  {
   "cell_type": "code",
   "execution_count": 18,
   "id": "17da8ab5",
   "metadata": {},
   "outputs": [
    {
     "name": "stdout",
     "output_type": "stream",
     "text": [
      "{2, 3, 4, 5, 6, 7, 75, 78, 23, 26, 32, 98, 35, 43, 50, 643251, 564, 54, 55, 56, 2425}\n"
     ]
    }
   ],
   "source": [
    "z.remove (211)\n",
    "print(z)"
   ]
  },
  {
   "cell_type": "code",
   "execution_count": 19,
   "id": "4302f087",
   "metadata": {},
   "outputs": [
    {
     "name": "stdout",
     "output_type": "stream",
     "text": [
      "{2, 3, 4, 5, 6, 7, 75, 78, 23, 26, 32, 98, 35, 43, 50, 564, 54, 55, 56, 2425}\n"
     ]
    }
   ],
   "source": [
    "z.remove (643251)\n",
    "print(z)\n"
   ]
  },
  {
   "cell_type": "code",
   "execution_count": 22,
   "id": "df9a79f3",
   "metadata": {},
   "outputs": [
    {
     "name": "stdout",
     "output_type": "stream",
     "text": [
      "{2, 3, 4, 7, 43, 75, 54, 26}\n"
     ]
    }
   ],
   "source": [
    "s.remove(32)\n",
    "print(s)\n"
   ]
  },
  {
   "cell_type": "code",
   "execution_count": null,
   "id": "98d98311",
   "metadata": {},
   "outputs": [],
   "source": [
    "\n",
    "## case study of  building a voter application"
   ]
  },
  {
   "cell_type": "code",
   "execution_count": 1,
   "id": "3d6c7532",
   "metadata": {},
   "outputs": [
    {
     "name": "stdout",
     "output_type": "stream",
     "text": [
      "please say somethinghi all gm\n"
     ]
    }
   ],
   "source": [
    "\n",
    "sms=input('please say something')"
   ]
  },
  {
   "cell_type": "code",
   "execution_count": 2,
   "id": "3b64d4cc",
   "metadata": {},
   "outputs": [
    {
     "data": {
      "text/plain": [
       "str"
      ]
     },
     "execution_count": 2,
     "metadata": {},
     "output_type": "execute_result"
    }
   ],
   "source": [
    "type(sms)"
   ]
  },
  {
   "cell_type": "code",
   "execution_count": 6,
   "id": "77740058",
   "metadata": {},
   "outputs": [
    {
     "name": "stdout",
     "output_type": "stream",
     "text": [
      "please enter a num422\n"
     ]
    }
   ],
   "source": [
    "\n",
    "num=input('please enter a num')"
   ]
  },
  {
   "cell_type": "code",
   "execution_count": 8,
   "id": "0d54d699",
   "metadata": {},
   "outputs": [
    {
     "data": {
      "text/plain": [
       "str"
      ]
     },
     "execution_count": 8,
     "metadata": {},
     "output_type": "execute_result"
    }
   ],
   "source": [
    "type(num)\n"
   ]
  },
  {
   "cell_type": "code",
   "execution_count": null,
   "id": "e4442a7d",
   "metadata": {},
   "outputs": [],
   "source": [
    "\n",
    "##   type casting ;- converting one datatype to another\n",
    "ex;- str-float,str-int\n"
   ]
  },
  {
   "cell_type": "code",
   "execution_count": 14,
   "id": "52898d54",
   "metadata": {},
   "outputs": [
    {
     "name": "stdout",
     "output_type": "stream",
     "text": [
      "how old are ypu21\n",
      "you are eligible for vote\n"
     ]
    }
   ],
   "source": [
    "age=input('how old are ypu')\n",
    "if int (age) >=18:\n",
    "    print('you are eligible for vote')\n",
    "else:\n",
    "    print(' sorry you are no eligible')"
   ]
  },
  {
   "cell_type": "code",
   "execution_count": 15,
   "id": "2cbb0e3a",
   "metadata": {},
   "outputs": [
    {
     "name": "stdout",
     "output_type": "stream",
     "text": [
      "how old are ypu12\n",
      " sorry you are no eligible\n"
     ]
    }
   ],
   "source": [
    "age=input('how old are ypu')\n",
    "if int (age) >=18:\n",
    "    print('you are eligible for vote')\n",
    "else:\n",
    "    print(' sorry you are no eligible')"
   ]
  },
  {
   "cell_type": "code",
   "execution_count": null,
   "id": "b5ca2938",
   "metadata": {},
   "outputs": [],
   "source": []
  },
  {
   "cell_type": "code",
   "execution_count": null,
   "id": "ab04b044",
   "metadata": {},
   "outputs": [],
   "source": [
    "\n",
    "\n",
    "\n",
    "\n",
    "\n",
    "\n"
   ]
  },
  {
   "cell_type": "code",
   "execution_count": null,
   "id": "eb2554bd",
   "metadata": {},
   "outputs": [],
   "source": [
    "\n",
    "\n"
   ]
  },
  {
   "cell_type": "code",
   "execution_count": null,
   "id": "4b27ca9e",
   "metadata": {},
   "outputs": [],
   "source": [
    "\n"
   ]
  },
  {
   "cell_type": "code",
   "execution_count": null,
   "id": "39d56e10",
   "metadata": {},
   "outputs": [],
   "source": [
    "\n",
    "\n"
   ]
  },
  {
   "cell_type": "code",
   "execution_count": null,
   "id": "1cea6871",
   "metadata": {},
   "outputs": [],
   "source": [
    "\n"
   ]
  },
  {
   "cell_type": "code",
   "execution_count": null,
   "id": "11e57457",
   "metadata": {},
   "outputs": [],
   "source": []
  },
  {
   "cell_type": "code",
   "execution_count": null,
   "id": "ad88406c",
   "metadata": {},
   "outputs": [],
   "source": []
  },
  {
   "cell_type": "code",
   "execution_count": null,
   "id": "08b8175d",
   "metadata": {},
   "outputs": [],
   "source": [
    "\n"
   ]
  },
  {
   "cell_type": "code",
   "execution_count": null,
   "id": "4def656e",
   "metadata": {},
   "outputs": [],
   "source": [
    "\n",
    "\n",
    "\n",
    "\n"
   ]
  },
  {
   "cell_type": "code",
   "execution_count": null,
   "id": "e02b4197",
   "metadata": {},
   "outputs": [],
   "source": [
    "\n"
   ]
  },
  {
   "cell_type": "code",
   "execution_count": null,
   "id": "5b9d55a9",
   "metadata": {},
   "outputs": [],
   "source": []
  },
  {
   "cell_type": "code",
   "execution_count": null,
   "id": "2223a477",
   "metadata": {},
   "outputs": [],
   "source": []
  },
  {
   "cell_type": "code",
   "execution_count": null,
   "id": "a458baa4",
   "metadata": {},
   "outputs": [],
   "source": []
  }
 ],
 "metadata": {
  "kernelspec": {
   "display_name": "Python 3",
   "language": "python",
   "name": "python3"
  },
  "language_info": {
   "codemirror_mode": {
    "name": "ipython",
    "version": 3
   },
   "file_extension": ".py",
   "mimetype": "text/x-python",
   "name": "python",
   "nbconvert_exporter": "python",
   "pygments_lexer": "ipython3",
   "version": "3.8.8"
  }
 },
 "nbformat": 4,
 "nbformat_minor": 5
}
