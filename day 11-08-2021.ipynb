{
 "cells": [
  {
   "cell_type": "code",
   "execution_count": 1,
   "id": "78e6013b",
   "metadata": {},
   "outputs": [],
   "source": [
    "## string  declaration  done in 3wyas single code,doule code &triple code\n",
    "'pandy'\n",
    "''apple''\n",
    "'''apple'''\n"
   ]
  },
  {
   "cell_type": "code",
   "execution_count": 2,
   "id": "830ed58d",
   "metadata": {},
   "outputs": [
    {
     "name": "stdout",
     "output_type": "stream",
     "text": [
      "Beulah \n"
     ]
    }
   ],
   "source": [
    "name='Beulah '\n",
    "print(name)"
   ]
  },
  {
   "cell_type": "code",
   "execution_count": null,
   "id": "69b4bb71",
   "metadata": {},
   "outputs": [],
   "source": [
    "## code enancement \n",
    "three builtin metods\n",
    "1.Upper\n",
    "2.Lower\n",
    "3.Title"
   ]
  },
  {
   "cell_type": "code",
   "execution_count": 3,
   "id": "76d26d48",
   "metadata": {},
   "outputs": [
    {
     "name": "stdout",
     "output_type": "stream",
     "text": [
      "BEULAH \n"
     ]
    }
   ],
   "source": [
    "print(name.upper())\n"
   ]
  },
  {
   "cell_type": "code",
   "execution_count": 4,
   "id": "d08c1266",
   "metadata": {},
   "outputs": [
    {
     "name": "stdout",
     "output_type": "stream",
     "text": [
      "Beulah \n"
     ]
    }
   ],
   "source": [
    "print(name.title())\n"
   ]
  },
  {
   "cell_type": "code",
   "execution_count": 6,
   "id": "46b28c2a",
   "metadata": {},
   "outputs": [
    {
     "name": "stdout",
     "output_type": "stream",
     "text": [
      "beulah \n"
     ]
    }
   ],
   "source": [
    "print(name.lower())\n"
   ]
  },
  {
   "cell_type": "code",
   "execution_count": null,
   "id": "e8998007",
   "metadata": {},
   "outputs": [],
   "source": [
    "\n",
    "## f strings -------->formatted strings \n"
   ]
  },
  {
   "cell_type": "code",
   "execution_count": 11,
   "id": "282bfbfa",
   "metadata": {},
   "outputs": [
    {
     "name": "stdout",
     "output_type": "stream",
     "text": [
      "python  course\n"
     ]
    }
   ],
   "source": [
    "first_name='python '\n",
    "last_name='course'\n",
    "complete_name=f\"{first_name} {last_name}\"\n",
    "print(complete_name)\n",
    "\n"
   ]
  },
  {
   "cell_type": "code",
   "execution_count": 15,
   "id": "91af7057",
   "metadata": {},
   "outputs": [
    {
     "name": "stdout",
     "output_type": "stream",
     "text": [
      "PYTHON  COURSE\n"
     ]
    }
   ],
   "source": [
    "print(complete_name.upper())\n"
   ]
  },
  {
   "cell_type": "code",
   "execution_count": null,
   "id": "486b504f",
   "metadata": {},
   "outputs": [],
   "source": [
    "## Adding  of white spaces  to strings "
   ]
  },
  {
   "cell_type": "code",
   "execution_count": 16,
   "id": "b4e0b821",
   "metadata": {},
   "outputs": [
    {
     "name": "stdout",
     "output_type": "stream",
     "text": [
      "Beulah \n"
     ]
    }
   ],
   "source": [
    "name=='Beulah '\n",
    "print(name)"
   ]
  },
  {
   "cell_type": "code",
   "execution_count": 18,
   "id": "edfe52d9",
   "metadata": {},
   "outputs": [
    {
     "name": "stdout",
     "output_type": "stream",
     "text": [
      "\t Beulah\n"
     ]
    }
   ],
   "source": [
    "print('\\t Beulah')\n"
   ]
  },
  {
   "cell_type": "code",
   "execution_count": 19,
   "id": "bad246d9",
   "metadata": {},
   "outputs": [
    {
     "name": "stdout",
     "output_type": "stream",
     "text": [
      "\n",
      "\t Beulah\n"
     ]
    }
   ],
   "source": [
    "print('\\n\\t Beulah')\n"
   ]
  },
  {
   "cell_type": "code",
   "execution_count": 20,
   "id": "17580f59",
   "metadata": {},
   "outputs": [
    {
     "name": "stdout",
     "output_type": "stream",
     "text": [
      "\t      Beulah\n"
     ]
    }
   ],
   "source": [
    "\n",
    "print('\\t      Beulah')    \n"
   ]
  },
  {
   "cell_type": "code",
   "execution_count": 22,
   "id": "d03adde1",
   "metadata": {},
   "outputs": [
    {
     "name": "stdout",
     "output_type": "stream",
     "text": [
      "names:\n",
      " Beulah \n",
      " teju\n",
      " puspa\n",
      " anu\n"
     ]
    }
   ],
   "source": [
    "\n",
    "print('names:''\\n Beulah ''\\n teju''\\n puspa''\\n anu')\n",
    "\n"
   ]
  },
  {
   "cell_type": "code",
   "execution_count": 26,
   "id": "cfe72c10",
   "metadata": {
    "scrolled": true
   },
   "outputs": [
    {
     "name": "stdout",
     "output_type": "stream",
     "text": [
      "names:\n",
      "\t Beulah \n",
      "\t teju\n",
      "\t puspa\n",
      "\t anu\n"
     ]
    }
   ],
   "source": [
    "print('names:''\\n\\t Beulah ''\\n\\t teju''\\n\\t puspa''\\n\\t anu')\n",
    "\n"
   ]
  },
  {
   "cell_type": "code",
   "execution_count": null,
   "id": "17debedb",
   "metadata": {},
   "outputs": [],
   "source": [
    "## stripping  method  --> adding /deleting  spaces \n",
    "1.Right strip \n",
    "2.Left strip"
   ]
  },
  {
   "cell_type": "code",
   "execution_count": 32,
   "id": "b3b0ada0",
   "metadata": {},
   "outputs": [
    {
     "name": "stdout",
     "output_type": "stream",
     "text": [
      "python\n"
     ]
    }
   ],
   "source": [
    "my_lang='python' \n",
    "print(my_lang)\n"
   ]
  },
  {
   "cell_type": "code",
   "execution_count": 34,
   "id": "25511825",
   "metadata": {},
   "outputs": [
    {
     "name": "stdout",
     "output_type": "stream",
     "text": [
      "python\n"
     ]
    }
   ],
   "source": [
    "print(my_lang.lstrip())\n",
    "\n"
   ]
  },
  {
   "cell_type": "code",
   "execution_count": 38,
   "id": "50202941",
   "metadata": {},
   "outputs": [
    {
     "name": "stdout",
     "output_type": "stream",
     "text": [
      "python\n"
     ]
    }
   ],
   "source": [
    "print(my_lang.rstrip())\n"
   ]
  },
  {
   "cell_type": "code",
   "execution_count": null,
   "id": "eb7812dc",
   "metadata": {},
   "outputs": [],
   "source": [
    "intrduction of te list\n",
    "\n"
   ]
  },
  {
   "cell_type": "code",
   "execution_count": 40,
   "id": "bb2de48c",
   "metadata": {},
   "outputs": [
    {
     "name": "stdout",
     "output_type": "stream",
     "text": [
      "['navya', 'jhasni', 'ram', 'sam', 'raj', 'latha']\n"
     ]
    }
   ],
   "source": [
    "\n",
    "students =['navya','jhasni','ram','sam','raj','latha']\n",
    "print (students)\n",
    "           \n",
    "    \n",
    "    "
   ]
  },
  {
   "cell_type": "code",
   "execution_count": 41,
   "id": "dad426b5",
   "metadata": {},
   "outputs": [
    {
     "data": {
      "text/plain": [
       "list"
      ]
     },
     "execution_count": 41,
     "metadata": {},
     "output_type": "execute_result"
    }
   ],
   "source": [
    "type(students)"
   ]
  },
  {
   "cell_type": "code",
   "execution_count": 44,
   "id": "65907a28",
   "metadata": {},
   "outputs": [
    {
     "name": "stdout",
     "output_type": "stream",
     "text": [
      "sam\n"
     ]
    }
   ],
   "source": [
    "print (students[3])\n"
   ]
  },
  {
   "cell_type": "code",
   "execution_count": 46,
   "id": "571cc4f4",
   "metadata": {},
   "outputs": [
    {
     "name": "stdout",
     "output_type": "stream",
     "text": [
      "raj\n"
     ]
    }
   ],
   "source": [
    "  print(students[4])"
   ]
  },
  {
   "cell_type": "markdown",
   "id": "24ff2b65",
   "metadata": {},
   "source": [
    "\n",
    "#### "
   ]
  }
 ],
 "metadata": {
  "kernelspec": {
   "display_name": "Python 3",
   "language": "python",
   "name": "python3"
  },
  "language_info": {
   "codemirror_mode": {
    "name": "ipython",
    "version": 3
   },
   "file_extension": ".py",
   "mimetype": "text/x-python",
   "name": "python",
   "nbconvert_exporter": "python",
   "pygments_lexer": "ipython3",
   "version": "3.8.8"
  }
 },
 "nbformat": 4,
 "nbformat_minor": 5
}
