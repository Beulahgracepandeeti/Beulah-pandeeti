{
 "cells": [
  {
   "cell_type": "code",
   "execution_count": null,
   "id": "20ba4626",
   "metadata": {},
   "outputs": [],
   "source": [
    "## declaration of tuple \n",
    "\n"
   ]
  },
  {
   "cell_type": "code",
   "execution_count": 1,
   "id": "1992674d",
   "metadata": {},
   "outputs": [
    {
     "name": "stdout",
     "output_type": "stream",
     "text": [
      "('teju', 'raj', 'anu', 'dolly', 'saara', 'manasa', 'vani')\n"
     ]
    }
   ],
   "source": [
    "s=(\"teju\",\"raj\",\"anu\",\"dolly\",\"saara\",\"manasa\",\"vani\")\n",
    "print(s)"
   ]
  },
  {
   "cell_type": "code",
   "execution_count": 2,
   "id": "db8a7ff9",
   "metadata": {},
   "outputs": [
    {
     "data": {
      "text/plain": [
       "tuple"
      ]
     },
     "execution_count": 2,
     "metadata": {},
     "output_type": "execute_result"
    }
   ],
   "source": [
    "type(s)"
   ]
  },
  {
   "cell_type": "code",
   "execution_count": null,
   "id": "c6ad6890",
   "metadata": {},
   "outputs": [],
   "source": [
    "## add elements in tuple"
   ]
  },
  {
   "cell_type": "code",
   "execution_count": 3,
   "id": "a91ba4bf",
   "metadata": {},
   "outputs": [
    {
     "name": "stdout",
     "output_type": "stream",
     "text": [
      "(34, 54, 76, 132, 23)\n"
     ]
    }
   ],
   "source": [
    "values=(34,54,76,132,23)\n",
    "print(values)"
   ]
  },
  {
   "cell_type": "code",
   "execution_count": 4,
   "id": "5b707f0c",
   "metadata": {},
   "outputs": [
    {
     "ename": "NameError",
     "evalue": "name 'value' is not defined",
     "output_type": "error",
     "traceback": [
      "\u001b[1;31m---------------------------------------------------------------------------\u001b[0m",
      "\u001b[1;31mNameError\u001b[0m                                 Traceback (most recent call last)",
      "\u001b[1;32m<ipython-input-4-f5996c01793e>\u001b[0m in \u001b[0;36m<module>\u001b[1;34m\u001b[0m\n\u001b[1;32m----> 1\u001b[1;33m \u001b[0mvalue\u001b[0m\u001b[1;33m[\u001b[0m\u001b[0ms\u001b[0m\u001b[1;33m]\u001b[0m\u001b[1;33m=\u001b[0m\u001b[1;36m132\u001b[0m\u001b[1;33m\u001b[0m\u001b[1;33m\u001b[0m\u001b[0m\n\u001b[0m",
      "\u001b[1;31mNameError\u001b[0m: name 'value' is not defined"
     ]
    }
   ],
   "source": [
    "value[s]=132\n",
    "## we cannot add elements directly in tuple"
   ]
  },
  {
   "cell_type": "code",
   "execution_count": 5,
   "id": "1b6af7f3",
   "metadata": {},
   "outputs": [
    {
     "name": "stdout",
     "output_type": "stream",
     "text": [
      "(34, 54, 76, 132, 23, 456, 345)\n"
     ]
    }
   ],
   "source": [
    "\n",
    "\n",
    "values=(34,54,76,132,23,456,345)\n",
    "print(values)\n"
   ]
  },
  {
   "cell_type": "code",
   "execution_count": null,
   "id": "d40d36ec",
   "metadata": {},
   "outputs": [],
   "source": [
    "## updating the elements  in the tuple"
   ]
  },
  {
   "cell_type": "code",
   "execution_count": 1,
   "id": "ff676d76",
   "metadata": {},
   "outputs": [
    {
     "name": "stdout",
     "output_type": "stream",
     "text": [
      "(2, 3, 56, 15, 76, 24, 25, 6, 45, 24, 1)\n"
     ]
    }
   ],
   "source": [
    "x=(2,3,56,15,76,24,25)\n",
    "y=(6,45,24,1)\n",
    "print(x+y)\n"
   ]
  },
  {
   "cell_type": "code",
   "execution_count": 2,
   "id": "6bb58672",
   "metadata": {},
   "outputs": [
    {
     "name": "stdout",
     "output_type": "stream",
     "text": [
      "(2, 3, 56, 15, 76, 24, 25, 6, 45, 24, 1)\n"
     ]
    }
   ],
   "source": [
    "x=(2,3,56,15,76,24,25)\n",
    "y=(6,45,24,1)\n",
    "z=x+y\n",
    "print(z)"
   ]
  },
  {
   "cell_type": "code",
   "execution_count": 4,
   "id": "6d386e45",
   "metadata": {},
   "outputs": [
    {
     "data": {
      "text/plain": [
       "tuple"
      ]
     },
     "execution_count": 4,
     "metadata": {},
     "output_type": "execute_result"
    }
   ],
   "source": [
    "\n",
    "\n",
    "type(z)\n"
   ]
  },
  {
   "cell_type": "code",
   "execution_count": 7,
   "id": "f16090b8",
   "metadata": {},
   "outputs": [
    {
     "name": "stdout",
     "output_type": "stream",
     "text": [
      "3\n"
     ]
    },
    {
     "data": {
      "text/plain": [
       "int"
      ]
     },
     "execution_count": 7,
     "metadata": {},
     "output_type": "execute_result"
    }
   ],
   "source": [
    "x=(3)\n",
    "print(x)\n",
    "type(x)"
   ]
  },
  {
   "cell_type": "code",
   "execution_count": 9,
   "id": "06a65d44",
   "metadata": {},
   "outputs": [
    {
     "name": "stdout",
     "output_type": "stream",
     "text": [
      "(3,)\n"
     ]
    },
    {
     "data": {
      "text/plain": [
       "tuple"
      ]
     },
     "execution_count": 9,
     "metadata": {},
     "output_type": "execute_result"
    }
   ],
   "source": [
    "x=(3,)\n",
    "print(x)\n",
    "type(x)\n"
   ]
  },
  {
   "cell_type": "code",
   "execution_count": null,
   "id": "5eccc3a4",
   "metadata": {},
   "outputs": [],
   "source": [
    "## deleting  of elements\n",
    "pop()\n",
    "delete()\n",
    "remove()"
   ]
  },
  {
   "cell_type": "code",
   "execution_count": 10,
   "id": "bf98bfcd",
   "metadata": {},
   "outputs": [
    {
     "name": "stdout",
     "output_type": "stream",
     "text": [
      "(4, 3, 45, 11, 34, 54)\n"
     ]
    }
   ],
   "source": [
    "q=(4,3,45,11,34,54)\n",
    "print(q)"
   ]
  },
  {
   "cell_type": "code",
   "execution_count": null,
   "id": "ab54f42d",
   "metadata": {},
   "outputs": [],
   "source": []
  },
  {
   "cell_type": "code",
   "execution_count": 12,
   "id": "5af93cc0",
   "metadata": {},
   "outputs": [
    {
     "ename": "NameError",
     "evalue": "name 'q' is not defined",
     "output_type": "error",
     "traceback": [
      "\u001b[1;31m---------------------------------------------------------------------------\u001b[0m",
      "\u001b[1;31mNameError\u001b[0m                                 Traceback (most recent call last)",
      "\u001b[1;32m<ipython-input-12-eee33b7ea1ca>\u001b[0m in \u001b[0;36m<module>\u001b[1;34m\u001b[0m\n\u001b[1;32m----> 1\u001b[1;33m \u001b[1;32mdel\u001b[0m \u001b[0mq\u001b[0m\u001b[1;33m\u001b[0m\u001b[1;33m\u001b[0m\u001b[0m\n\u001b[0m\u001b[0;32m      2\u001b[0m \u001b[0mprint\u001b[0m\u001b[1;33m(\u001b[0m\u001b[0mq\u001b[0m\u001b[1;33m)\u001b[0m\u001b[1;33m\u001b[0m\u001b[1;33m\u001b[0m\u001b[0m\n",
      "\u001b[1;31mNameError\u001b[0m: name 'q' is not defined"
     ]
    }
   ],
   "source": [
    "del q\n",
    "print(q)"
   ]
  },
  {
   "cell_type": "code",
   "execution_count": 13,
   "id": "7e96cac5",
   "metadata": {},
   "outputs": [
    {
     "name": "stdout",
     "output_type": "stream",
     "text": [
      "('teju', 'raj', 'anu', 'dolly', 'saara', 'manasa', 'vani', 54, 77)\n"
     ]
    }
   ],
   "source": [
    "s=(\"teju\",\"raj\",\"anu\",\"dolly\",\"saara\",\"manasa\",\"vani\",54,77)\n",
    "print(s)"
   ]
  },
  {
   "cell_type": "code",
   "execution_count": 14,
   "id": "dc7b46a1",
   "metadata": {},
   "outputs": [
    {
     "data": {
      "text/plain": [
       "tuple"
      ]
     },
     "execution_count": 14,
     "metadata": {},
     "output_type": "execute_result"
    }
   ],
   "source": [
    "type(s)"
   ]
  },
  {
   "cell_type": "code",
   "execution_count": 18,
   "id": "1020c50e",
   "metadata": {},
   "outputs": [
    {
     "ename": "NameError",
     "evalue": "name 's' is not defined",
     "output_type": "error",
     "traceback": [
      "\u001b[1;31m---------------------------------------------------------------------------\u001b[0m",
      "\u001b[1;31mNameError\u001b[0m                                 Traceback (most recent call last)",
      "\u001b[1;32m<ipython-input-18-d7a8ab82fed5>\u001b[0m in \u001b[0;36m<module>\u001b[1;34m\u001b[0m\n\u001b[1;32m----> 1\u001b[1;33m \u001b[1;32mdel\u001b[0m \u001b[0ms\u001b[0m\u001b[1;33m\u001b[0m\u001b[1;33m\u001b[0m\u001b[0m\n\u001b[0m",
      "\u001b[1;31mNameError\u001b[0m: name 's' is not defined"
     ]
    }
   ],
   "source": [
    "del s"
   ]
  },
  {
   "cell_type": "code",
   "execution_count": 22,
   "id": "64bf9468",
   "metadata": {},
   "outputs": [
    {
     "data": {
      "text/plain": [
       "tuple"
      ]
     },
     "execution_count": 22,
     "metadata": {},
     "output_type": "execute_result"
    }
   ],
   "source": [
    "s=(\"teju\",\"raj\",\"anu\",\"dolly\",\"saara\",\"manasa\",\"vani\")\n",
    "type(s)\n"
   ]
  },
  {
   "cell_type": "code",
   "execution_count": 23,
   "id": "3d1b1510",
   "metadata": {},
   "outputs": [
    {
     "name": "stdout",
     "output_type": "stream",
     "text": [
      "('teju', 'raj', 'anu', 'dolly', 'saara', 'manasa', 'vani')\n"
     ]
    }
   ],
   "source": [
    "print(s)"
   ]
  },
  {
   "cell_type": "code",
   "execution_count": null,
   "id": "072cf348",
   "metadata": {},
   "outputs": [],
   "source": [
    "## slicing  of tuple"
   ]
  },
  {
   "cell_type": "code",
   "execution_count": 25,
   "id": "7cc958e9",
   "metadata": {},
   "outputs": [
    {
     "name": "stdout",
     "output_type": "stream",
     "text": [
      "(3, 44, 23, 1, 34, 54, 57, 33, 24, 5, 7, 2, 72, 56)\n"
     ]
    }
   ],
   "source": [
    "c=(3,44,23,1,34,54,57,33,24,5,7,2,72,56)\n",
    "print(c)"
   ]
  },
  {
   "cell_type": "code",
   "execution_count": 26,
   "id": "1ae3ec7e",
   "metadata": {},
   "outputs": [
    {
     "data": {
      "text/plain": [
       "(3, 44, 23, 1)"
      ]
     },
     "execution_count": 26,
     "metadata": {},
     "output_type": "execute_result"
    }
   ],
   "source": [
    "c[0:4]"
   ]
  },
  {
   "cell_type": "code",
   "execution_count": 27,
   "id": "633fcf47",
   "metadata": {},
   "outputs": [
    {
     "data": {
      "text/plain": [
       "(3, 44, 23, 1, 34, 54, 57, 33, 24, 5, 7, 2, 72, 56)"
      ]
     },
     "execution_count": 27,
     "metadata": {},
     "output_type": "execute_result"
    }
   ],
   "source": [
    "c[ : ]"
   ]
  },
  {
   "cell_type": "code",
   "execution_count": 28,
   "id": "4d9be64a",
   "metadata": {},
   "outputs": [
    {
     "data": {
      "text/plain": [
       "(3, 44, 23, 1, 34, 54, 57)"
      ]
     },
     "execution_count": 28,
     "metadata": {},
     "output_type": "execute_result"
    }
   ],
   "source": [
    "\n",
    "c[ :7]\n"
   ]
  },
  {
   "cell_type": "code",
   "execution_count": 29,
   "id": "20fd53a8",
   "metadata": {},
   "outputs": [
    {
     "data": {
      "text/plain": [
       "(54, 57, 33, 24, 5, 7, 2, 72, 56)"
      ]
     },
     "execution_count": 29,
     "metadata": {},
     "output_type": "execute_result"
    }
   ],
   "source": [
    "c[5: ]"
   ]
  },
  {
   "cell_type": "code",
   "execution_count": null,
   "id": "8d56cbd3",
   "metadata": {},
   "outputs": [],
   "source": [
    "\n",
    "## user accepting string "
   ]
  },
  {
   "cell_type": "code",
   "execution_count": null,
   "id": "2538cd74",
   "metadata": {},
   "outputs": [],
   "source": [
    "sms=print(input('can i say something '))\n",
    "\n",
    "\n"
   ]
  },
  {
   "cell_type": "code",
   "execution_count": 31,
   "id": "655e9477",
   "metadata": {},
   "outputs": [
    {
     "name": "stdout",
     "output_type": "stream",
     "text": [
      "can i say something hi how are you doing \n"
     ]
    }
   ],
   "source": [
    "\n",
    "sms=(input('can i say something '))\n"
   ]
  },
  {
   "cell_type": "code",
   "execution_count": 1,
   "id": "0936c876",
   "metadata": {},
   "outputs": [
    {
     "name": "stdout",
     "output_type": "stream",
     "text": [
      "enter a num32\n",
      "32\n"
     ]
    }
   ],
   "source": [
    "num=input('enter a num')\n",
    "print(num)"
   ]
  },
  {
   "cell_type": "code",
   "execution_count": 2,
   "id": "11c3d55f",
   "metadata": {},
   "outputs": [
    {
     "name": "stdout",
     "output_type": "stream",
     "text": [
      "tell  something i will repeat itBeulah \n",
      "Beulah \n"
     ]
    }
   ],
   "source": [
    "sms=print(input('tell  something i will repeat it'))"
   ]
  },
  {
   "cell_type": "code",
   "execution_count": null,
   "id": "1de64ae7",
   "metadata": {},
   "outputs": [],
   "source": [
    "## enancement"
   ]
  },
  {
   "cell_type": "code",
   "execution_count": 7,
   "id": "91eb7805",
   "metadata": {},
   "outputs": [
    {
     "ename": "SyntaxError",
     "evalue": "invalid syntax (<ipython-input-7-f4232b07b0a3>, line 2)",
     "output_type": "error",
     "traceback": [
      "\u001b[1;36m  File \u001b[1;32m\"<ipython-input-7-f4232b07b0a3>\"\u001b[1;36m, line \u001b[1;32m2\u001b[0m\n\u001b[1;33m    print(\"\\n welcome back too see you an flipkart:{name.upper()}\")\u001b[0m\n\u001b[1;37m    ^\u001b[0m\n\u001b[1;31mSyntaxError\u001b[0m\u001b[1;31m:\u001b[0m invalid syntax\n"
     ]
    }
   ],
   "source": [
    "\n",
    "name=(input('please enter you are name')\n",
    "      print(\"\\n welcome back too see you an flipkart:{name.upper()}\")\n",
    "      \n",
    "\n"
   ]
  },
  {
   "cell_type": "code",
   "execution_count": null,
   "id": "86aa0040",
   "metadata": {},
   "outputs": [],
   "source": [
    "\n",
    "\n"
   ]
  },
  {
   "cell_type": "code",
   "execution_count": null,
   "id": "8fbb4ced",
   "metadata": {},
   "outputs": [],
   "source": [
    "\n"
   ]
  },
  {
   "cell_type": "code",
   "execution_count": null,
   "id": "002c490f",
   "metadata": {},
   "outputs": [],
   "source": [
    "\n",
    "\n",
    "\n",
    "\n",
    "\n",
    "\n",
    "\n",
    "\n",
    "\n",
    "\n",
    "\n",
    "\n"
   ]
  }
 ],
 "metadata": {
  "kernelspec": {
   "display_name": "Python 3",
   "language": "python",
   "name": "python3"
  },
  "language_info": {
   "codemirror_mode": {
    "name": "ipython",
    "version": 3
   },
   "file_extension": ".py",
   "mimetype": "text/x-python",
   "name": "python",
   "nbconvert_exporter": "python",
   "pygments_lexer": "ipython3",
   "version": "3.8.8"
  }
 },
 "nbformat": 4,
 "nbformat_minor": 5
}
